{
 "cells": [
  {
   "cell_type": "code",
   "execution_count": 141,
   "id": "72e9676c-aa13-4597-8359-41058c1ff52c",
   "metadata": {},
   "outputs": [],
   "source": [
    "import matplotlib.pyplot as plt\n",
    "from minisom import MiniSom\n",
    "import numpy as np"
   ]
  },
  {
   "cell_type": "code",
   "execution_count": 142,
   "id": "3f37d168-c42d-4922-bc38-e8e5a10db074",
   "metadata": {},
   "outputs": [],
   "source": [
    "def get_data(batch_size):\n",
    "    data = np.empty(shape=[0, 2])\n",
    "    targets = np.zeros(batch_size)\n",
    "    for batch_i in range(batch_size):\n",
    "        x_point = [round(np.random.uniform(-1.0, 3.0), 1), round(np.random.uniform(-10., 10.), 1)]\n",
    "        data = np.append(data, [x_point], axis=0)\n",
    "        if x_point[0] >= 2:\n",
    "            targets[batch_i] = 0\n",
    "        elif x_point[0] >= 1 and x_point[0] < 2:\n",
    "            targets[batch_i] = 1\n",
    "        elif x_point[0] >= 0 and x_point[0] < 1:\n",
    "            targets[batch_i] = 2\n",
    "        elif x_point[0] < 0:\n",
    "            targets[batch_i] = 3\n",
    "    targets = targets.astype(int)\n",
    "    return data, targets"
   ]
  },
  {
   "cell_type": "code",
   "execution_count": 143,
   "id": "f3a6bab2-1a99-4807-96b4-16e14cf61370",
   "metadata": {},
   "outputs": [],
   "source": [
    "train_data, train_targets = get_data(5000)"
   ]
  },
  {
   "cell_type": "code",
   "execution_count": 144,
   "id": "4ded2f1b-e90d-4259-a3ef-6b47de6d77c2",
   "metadata": {},
   "outputs": [
    {
     "name": "stdout",
     "output_type": "stream",
     "text": [
      "zero:1302\n",
      "one:1263\n",
      "two:1236\n",
      "three:1199\n"
     ]
    }
   ],
   "source": [
    "zero, one, two, three = train_targets.tolist().count(0), train_targets.tolist().count(1), train_targets.tolist().count(2), train_targets.tolist().count(3)\n",
    "print(f'zero:{zero}\\none:{one}\\ntwo:{two}\\nthree:{three}')"
   ]
  },
  {
   "cell_type": "code",
   "execution_count": 145,
   "id": "fe17dea1-df69-45cb-a9aa-111a97bf04e1",
   "metadata": {},
   "outputs": [],
   "source": [
    "def classify(som, data):\n",
    "    winmap = som.labels_map(train_data, train_targets)\n",
    "    default_class = np.sum(list(winmap.values())).most_common()[0][0]\n",
    "    result = []\n",
    "    for d in data:\n",
    "        win_position = som.winner(d)\n",
    "        if win_position in winmap:\n",
    "            result.append(winmap[win_position].most_common()[0][0])\n",
    "        else:\n",
    "            result.append(default_class)\n",
    "    return result"
   ]
  },
  {
   "cell_type": "code",
   "execution_count": 147,
   "id": "f459ccd1-c1cf-46ce-b7ca-fcb390301c02",
   "metadata": {},
   "outputs": [
    {
     "name": "stdout",
     "output_type": "stream",
     "text": [
      " [ 800 / 800 ] 100% - 0:00:00 left \n",
      " quantization error: 0.32105807997407365\n",
      "              precision    recall  f1-score   support\n",
      "\n",
      "           0       0.94      0.95      0.95       109\n",
      "           1       0.92      0.85      0.89       109\n",
      "           2       0.85      0.93      0.89        95\n",
      "           3       0.95      0.93      0.94        87\n",
      "\n",
      "    accuracy                           0.92       400\n",
      "   macro avg       0.92      0.92      0.92       400\n",
      "weighted avg       0.92      0.92      0.91       400\n",
      "\n"
     ]
    }
   ],
   "source": [
    "from sklearn.model_selection import train_test_split\n",
    "from sklearn.metrics import classification_report\n",
    "\n",
    "test_data, test_targets = get_data(400)\n",
    "\n",
    "som = MiniSom(21, 21, 2, sigma=4, learning_rate=0.2,\n",
    "             neighborhood_function='gaussian', random_seed=15)\n",
    "som.pca_weights_init(train_data)\n",
    "som.train_random(train_data, 800, verbose=True)\n",
    "\n",
    "print(classification_report(test_targets, classify(som, test_data)))"
   ]
  },
  {
   "cell_type": "code",
   "execution_count": 148,
   "id": "4a741782-493d-4f93-9e37-4bce110c6de1",
   "metadata": {},
   "outputs": [],
   "source": [
    "def point_classification(test_data, preds):\n",
    "    first_class_x_points = []\n",
    "    first_class_y_points = []\n",
    "\n",
    "    second_class_x_points = []\n",
    "    second_class_y_points = []\n",
    "\n",
    "    third_class_x_points = []\n",
    "    third_class_y_points = []\n",
    "\n",
    "    fourth_class_x_points = []\n",
    "    fourth_class_y_points = []\n",
    "\n",
    "    for i in range(len(test_data)):\n",
    "        if preds[i] == 0:\n",
    "            first_class_x_points.append(test_data[i][0])\n",
    "            first_class_y_points.append(test_data[i][1])\n",
    "        elif preds[i] == 1:\n",
    "            second_class_x_points.append(test_data[i][0])\n",
    "            second_class_y_points.append(test_data[i][1])\n",
    "        elif preds[i] == 2:\n",
    "            third_class_x_points.append(test_data[i][0])\n",
    "            third_class_y_points.append(test_data[i][1])\n",
    "        elif preds[i] == 3:\n",
    "            fourth_class_x_points.append(test_data[i][0])\n",
    "            fourth_class_y_points.append(test_data[i][1])\n",
    "    return first_class_x_points, first_class_y_points, second_class_x_points, second_class_y_points, third_class_x_points, third_class_y_points, fourth_class_x_points, fourth_class_y_points"
   ]
  },
  {
   "cell_type": "code",
   "execution_count": 149,
   "id": "d201dedb-8dd5-4411-9e03-a248ec4aa8b2",
   "metadata": {},
   "outputs": [],
   "source": [
    "preds = classify(som, test_data)\n",
    "preds = np.array(preds)\n",
    "fi_class_x, fi_class_y, s_class_x, s_class_y, t_class_x, t_class_y, fo_class_x, fo_class_y = point_classification(test_data, preds)"
   ]
  },
  {
   "cell_type": "code",
   "execution_count": 150,
   "id": "475bb581-4d90-46b9-9895-56171f6a3a84",
   "metadata": {},
   "outputs": [
    {
     "data": {
      "image/png": "[encoded data removed]",
      "text/plain": [
       "<Figure size 432x288 with 1 Axes>"
      ]
     },
     "metadata": {
      "needs_background": "light"
     },
     "output_type": "display_data"
    }
   ],
   "source": [
    "plt.figure(1)\n",
    "plt.grid()\n",
    "plt.xlabel(\"$x$\", fontsize=14)\n",
    "plt.ylabel(\"$y$\", fontsize=14)\n",
    "\n",
    "plt.plot([2, 2], [-11, 11])\n",
    "plt.plot([1, 1], [-11, 11])\n",
    "plt.plot([0, 0], [-11, 11])\n",
    "\n",
    "plt.scatter(fi_class_x, fi_class_y, label=\"1 класс\")\n",
    "plt.scatter(s_class_x, s_class_y, label=\"2 класс\")\n",
    "plt.scatter(t_class_x, t_class_y, label=\"3 класс\")\n",
    "plt.scatter(fo_class_x, fo_class_y, label=\"4 класс\")\n",
    "plt.legend()\n",
    "plt.show()"
   ]
  },
  {
   "cell_type": "code",
   "execution_count": null,
   "id": "f18b8c26-dacf-442f-a589-a1fd9c64104f",
   "metadata": {},
   "outputs": [],
   "source": []
  }
 ],
 "metadata": {
  "kernelspec": {
   "display_name": "Python 3",
   "language": "python",
   "name": "python3"
  },
  "language_info": {
   "codemirror_mode": {
    "name": "ipython",
    "version": 3
   },
   "file_extension": ".py",
   "mimetype": "text/x-python",
   "name": "python",
   "nbconvert_exporter": "python",
   "pygments_lexer": "ipython3",
   "version": "3.9.1"
  }
 },
 "nbformat": 4,
 "nbformat_minor": 5
}
